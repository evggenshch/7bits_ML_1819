{
 "cells": [
  {
   "cell_type": "code",
   "execution_count": 55,
   "metadata": {},
   "outputs": [],
   "source": [
    "import operator\n",
    "\n",
    "def word_count(text):\n",
    "    wordsDict = {}\n",
    "    inputWords = text.split()\n",
    "    for curWord in inputWords:\n",
    "          if(len(curWord) > 1):\n",
    "                if(curWord in wordsDict):\n",
    "                    wordsDict[curWord] += 1\n",
    "                else:\n",
    "                    wordsDict[curWord] = 1\n",
    "    result = sorted(wordsDict.items(), key=operator.itemgetter(0), reverse=True)\n",
    "    return result[0:min(9, len(result))]"
   ]
  },
  {
   "cell_type": "code",
   "execution_count": 51,
   "metadata": {
    "scrolled": true
   },
   "outputs": [
    {
     "data": {
      "application/vnd.jupyter.widget-view+json": {
       "model_id": "8913e8c669834451bfd7b98c796cfb13",
       "version_major": 2,
       "version_minor": 0
      },
      "text/plain": [
       "Text(value='', placeholder='тут текст')"
      ]
     },
     "metadata": {},
     "output_type": "display_data"
    }
   ],
   "source": [
    " # Это магия для ввода текста, не трогайте её\n",
    "# Выполните эту ячейку и увидите поле для ввода текста. \n",
    "# Введите текст, нажмите Enter и получите ответ, который вы вычислили в функции выше\n",
    "from ipywidgets import widgets\n",
    "text = widgets.Text(placeholder=\"тут текст\")\n",
    "display(text)\n",
    "text.on_submit(word_count)"
   ]
  },
  {
   "cell_type": "code",
   "execution_count": 41,
   "metadata": {},
   "outputs": [],
   "source": [
    "def summa(n):\n",
    "    copy = n\n",
    "    result = 0\n",
    "    while copy > 0:\n",
    "        result = result + copy % 10\n",
    "        copy = copy // 10\n",
    "    return(result)"
   ]
  },
  {
   "cell_type": "code",
   "execution_count": 16,
   "metadata": {
    "scrolled": true
   },
   "outputs": [],
   "source": [
    "def summa_recursive(n):\n",
    "    return ((n % 10 + (summa_recursive(n // 10))) if n > 0 else 0)"
   ]
  }
 ],
 "metadata": {
  "kernelspec": {
   "display_name": "Python 3",
   "language": "python",
   "name": "python3"
  },
  "language_info": {
   "codemirror_mode": {
    "name": "ipython",
    "version": 3
   },
   "file_extension": ".py",
   "mimetype": "text/x-python",
   "name": "python",
   "nbconvert_exporter": "python",
   "pygments_lexer": "ipython3",
   "version": "3.6.6"
  }
 },
 "nbformat": 4,
 "nbformat_minor": 2
}
