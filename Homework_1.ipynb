{
 "cells": [
  {
   "cell_type": "code",
   "execution_count": null,
   "metadata": {},
   "outputs": [],
   "source": [
    "from array import array\n",
    "\n",
    "class Matrix:\n",
    "    def __init__(self, element_type, num_rows, num_columns):\n",
    "        self.matrix = array.array(element_type, num_rows, num_columns);\n",
    "    def __add__(self, other):\n",
    "        result = self\n",
    "        for row in self.matrix:\n",
    "            for column in self.matrix[row]:\n",
    "                result[row][column] += other[row][column]\n",
    "        return result\n",
    "    def __mul__(self, other):\n",
    "        result = self\n",
    "        for row in self.matrix:\n",
    "            for column in self.matrix[row]:\n",
    "                result[row][column] *= other\n",
    "        return result\n",
    "    def __pow__(self, other):\n",
    "        result = self\n",
    "        for row in self.matrix:\n",
    "            for column in self.matrix[row]:\n",
    "                result[row][col] = ;\n",
    "        return result\n",
    "    def determinant(self):\n",
    "        result = 0\n",
    "        for row in self.matrix:\n",
    "            for column in self.matrix[row]:\n",
    "                \n",
    "        return result\n",
    "    def transponse(self):\n",
    "        for row in self.matrix:\n",
    "            for column in self.matrix[row]:\n",
    "                result[row][column] = result[column][row];\n",
    "        return result\n",
    "    def __invert__(self):\n",
    "        return 1 / self.determinant() * self.transponse();"
   ]
  }
 ],
 "metadata": {
  "kernelspec": {
   "display_name": "Python 3",
   "language": "python",
   "name": "python3"
  },
  "language_info": {
   "codemirror_mode": {
    "name": "ipython",
    "version": 3
   },
   "file_extension": ".py",
   "mimetype": "text/x-python",
   "name": "python",
   "nbconvert_exporter": "python",
   "pygments_lexer": "ipython3",
   "version": "3.6.6"
  }
 },
 "nbformat": 4,
 "nbformat_minor": 2
}
